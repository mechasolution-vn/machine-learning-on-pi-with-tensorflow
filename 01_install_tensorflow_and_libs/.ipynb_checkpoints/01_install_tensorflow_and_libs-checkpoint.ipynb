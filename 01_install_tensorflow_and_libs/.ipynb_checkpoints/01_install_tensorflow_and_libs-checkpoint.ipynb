{
 "cells": [
  {
   "cell_type": "markdown",
   "metadata": {
    "colab_type": "text",
    "id": "a3bskVXPvchm"
   },
   "source": [
    "## Dự án 01: Xây dựng Raspberry PI thành máy tính cho Data Scientist (PIDS)\n",
    "## Bài 01. Cài đặt TensorFlow và các thư viện cần thiết\n",
    "\n",
    "##### Người soạn: Dương Trần Hà Phương\n",
    "##### Website: [Mechasolution Việt Nam](https://mechasolution.vn)\n",
    "##### Email: mechasolutionvietnam@gmail.com\n",
    "---"
   ]
  },
  {
   "cell_type": "markdown",
   "metadata": {},
   "source": [
    "## 1. Mở đầu\n",
    "Nếu bạn muốn chạy một Neural network model hoặc một thuật toán dự đoán nào đó trên một hệ thống nhúng thì Raspberry PI là một lựa chọn hoàn hảo cho bạn.\n",
    "\n",
    "Chỉ cần lựa chọn phiên bản Raspberry phù hợp với dự án của bạn. Sau đó, cài đặt hệ điều hành mới nhất và xong. Bạn đã sẵn sàng để khám phá thế giới Raspberry kì diệu rồi đó."
   ]
  },
  {
   "cell_type": "markdown",
   "metadata": {},
   "source": [
    "## 2. Yêu cầu cần thiết\n",
    "**Hệ điều hành: Raspbian**\n",
    "* Tải xuống phiên bản mới nhất của hệ điều hành Raspbian tại [ĐÂY](https://downloads.raspberrypi.org/raspbian_latest)\n",
    "* Sử dụng [Etcher](https://etcher.io/) để copy Raspbian lên thẻ nhớ (MicroSD)\n",
    "* Tham khảo cách cài đặt và chạy Raspbian tại bài viết [**Thiết lập Raspberry PI**](https://mechasolution.vn/Blog/bai-1-thiet-lap-raspberry-pi)\n",
    "\n",
    "**Python**\n",
    "* Ở đây chúng ta sẽ dùng Python làm ngôn ngữ chính để lập trình vì nhiều lý do như: hiện thực thuật toán nhanh, đơn giản, hệ thống thư viện hỗ trợ đa dạng.\n",
    "* Phiên bản Raspbian mới nhất ([2018–04–18-raspbian-stretch](https://downloads.raspberrypi.org/raspbian_latest)) đã được cài đặt 2 phiên bản Python là Python 3.5.2 và 2.7.13. Ở đây tôi sử dụng phiên bản Python 3.5.x để demo."
   ]
  },
  {
   "cell_type": "markdown",
   "metadata": {},
   "source": [
    "## 3. Cài đặt Numpy\n",
    "\n",
    "Numpy là thư viện toán học cho ngôn ngữ lập trình Python. Numpy hỗ trợ mảng, ma trận có kích thước và số chiều lớn cùng các toán tử đa dạng để tính toán trên mảng, ma trận. Cơ sở của Machine Learning dự trên phần lớn là toán học nên Numpy là một thư viện nền tảng không thể thiếu. Số lượng Commits và Contributors trên Github cũng cực kì ấn tượng: Commits: 15980, Contributors: 522.\n",
    "\n",
    "Chúng ta cài đặt Numpy với dòng lệnh sau:\n",
    "\n",
    "> `sudo apt-get install python3-numpy`"
   ]
  },
  {
   "cell_type": "markdown",
   "metadata": {},
   "source": [
    "## 4. Cài đặt Scipy\n",
    "\n",
    "Scipy là thư viện dành cho các nhà khoa học và kĩ sư. SciPy bao gồm các modules: linear algebra, optimization, integration, and statistics. Đây cũng là một thư viện nền tảng không thể thiếu cho các dự án Machine Learning. Scipy cũng có số lượng Commits và Contributors trên Github rất lớn: **Commits: 17213, Contributors: 489**\n",
    "\n",
    "Chúng ta cài đặt Scipy và các thư viện liên quan với các dòng lệnh sau:\n",
    "\n",
    "> `sudo apt-get install libblas-dev`\n",
    "\n",
    "> `sudo apt-get install liblapack-dev`\n",
    "\n",
    "> `sudo apt-get install python3-dev # Có thể đã được cài đặt sẵn`\n",
    "\n",
    "> `sudo apt-get install libatlas-base-dev # Tuỳ chọn`\n",
    "\n",
    "> `sudo apt-get install gfortran`\n",
    "\n",
    "> `sudo apt-get install python3-setuptools # Có thể đã được cài đặt sẵn`\n",
    "\n",
    "> `sudo apt-get install python3-scipy`"
   ]
  },
  {
   "cell_type": "markdown",
   "metadata": {},
   "source": [
    "## 5. Cài đặt Scikit-learn\n",
    "\n",
    "Scikit-learn (Sklearn) là các gói bổ sung của SciPy Stack được thiết kế cho các chức năng cụ thể như xử lý hình ảnh và Machine learning được dễ dàng hơn, nhanh hơn và tiện dụng hơn. Lượt Commits và Contributors trên Github lần lượt là: **Commits: 21793, Contributors: 842**.\n",
    "\n",
    "> `sudo pip3 install scikit-learn`\n",
    "\n",
    "> `sudo pip3 install pillow`\n",
    "\n",
    "> `sudo apt-get install python3-h5py`"
   ]
  },
  {
   "cell_type": "markdown",
   "metadata": {},
   "source": [
    "## 6. Cài đặt Matplotlib\n",
    "\n",
    "Matplotlib là một thư viện hỗ trợ trực quan hoá dữ liệu một cách đơn giản nhưng không kém phần mạnh mẽ. Với một chút nỗ lực, bạn có thể trực quan hoá bất kỳ dữ liệu nào: Line plots; Scatter plots; Bar charts and Histograms; Pie charts; Stem plots; Contour plots; Quiver plots; Spectrograms. Số lượng Commits và Contributors trên Github là: **Commits: 21754, Contributors: 588**.\n",
    "\n",
    "> `sudo apt-get install python3-matplotlib`"
   ]
  },
  {
   "cell_type": "markdown",
   "metadata": {},
   "source": [
    "## 7. Upgrade pip\n",
    "\n",
    "Chúng ta hãy cập nhật pip trước khi tiến hành cài đặt thư viện tiếp theo - Jupyter notebook.\n",
    "\n",
    "> `sudo pip3 install --upgrade pip`\n",
    "\n",
    "> `reboot`"
   ]
  },
  {
   "cell_type": "markdown",
   "metadata": {},
   "source": [
    "## 8. Cài đặt Jupyter Notebook\n",
    "\n",
    "[Jupyter Notebook](http://jupyter.org/) là một ứng dụng web mã nguồn mở cho phép bạn tạo hoặc chia sẻ những văn bản chứa:\n",
    "* live code\n",
    "* mô phỏng\n",
    "* văn bản diễn giải\n",
    "\n",
    "Sau đó, bạn chạy các lệnh dưới đây trên Terminal:\n",
    "\n",
    "> `sudo pip3 install jupyter`\n",
    "\n",
    "Khi cài đặt xong, chạy dòng lệnh dưới đây để khởi động Jupyter Notebook\n",
    "> `jupyter notebook`\n",
    "\n",
    "Kết quả, bạn sẽ thấy trình duyệt web được mở lên cùng với giao diện Jupyter Notebook như sau:\n",
    "\n",
    "![Giao diện của Jupyter notebook](./imgs/jupyter_notebook.png)\n",
    "\n",
    "Xem bài viết [Sử dụng Jupyter Notebook cho Python](https://mechasolution.vn/Blog/bai-3-su-dung-jupyter-notebook-cho-python) để xem thêm về cách sử dụng Jupyter Notebook"
   ]
  },
  {
   "cell_type": "markdown",
   "metadata": {},
   "source": [
    "## 9. Cài đặt TensorFlow\n",
    "[**TensorFlow**](https://www.tensorflow.org/) là một hệ thống chuyên dùng để tính toán trên đồ thị (graph-based computation). Một ví dụ điển hình là sử dụng trong máy học (machine learning).\n",
    "\n",
    "Ở đây, tôi sử dụng **Python Wheel Package (*.WHL)** được cung cấp bởi [lhelontra](https://github.com/lhelontra) tại [tensorflow-on-arm](https://github.com/lhelontra/tensorflow-on-arm)\n",
    "\n",
    "### * Với Raspberry PI 2 / 3\n",
    "###### ♦ Với Python version 3.5.x\n",
    "> `wget https://github.com/lhelontra/tensorflow-on-arm/releases/download/v1.8.0/tensorflow-1.8.0-cp35-none-linux_armv7l.whl`\n",
    "\n",
    "> `sudo pip3 install tensorflow-1.8.0-cp35-none-linux_armv7l.whl`\n",
    "\n",
    "> `sudo pip3 uninstall mock`\n",
    "\n",
    "> `sudo pip3 install mock`\n",
    "\n",
    "###### ♦ Với Python version 2.7.x\n",
    "> `wget https://github.com/lhelontra/tensorflow-on-arm/releases/download/v1.8.0/tensorflow-1.8.0-cp27-none-linux_armv7l.wh`\n",
    "\n",
    "> `sudo pip3 install tensorflow-1.8.0-cp35-none-linux_armv7l.whl`\n",
    "\n",
    "> `sudo pip3 uninstall mock`\n",
    "\n",
    "> `sudo pip3 install mock`\n",
    "\n",
    "### * Với Raspberry PI One / Zero\n",
    "###### ♦ Với Python version 3.5.x\n",
    "> `wget https://github.com/lhelontra/tensorflow-on-arm/releases/download/v1.8.0/tensorflow-1.8.0-cp35-none-linux_armv6l.whl`\n",
    "\n",
    "> `sudo pip3 install tensorflow-1.8.0-cp35-none-linux_armv6l.whl`\n",
    "\n",
    "> `sudo pip3 uninstall mock`\n",
    "\n",
    "> `sudo pip3 install mock`\n",
    "\n",
    "###### ♦ Với Python version 2.7.x\n",
    "> `wget https://github.com/lhelontra/tensorflow-on-arm/releases/download/v1.8.0/tensorflow-1.8.0-cp27-none-linux_armv6l.whl`\n",
    "\n",
    "> `sudo pip3 install tensorflow-1.8.0-cp27-none-linux_armv6l.whl`\n",
    "\n",
    "> `sudo pip3 uninstall mock`\n",
    "\n",
    "> `sudo pip3 install mock`\n",
    "\n",
    "Sau khi cài đặt xong, bạn có thể kiểm tra xem mình có cài đặt thành công không bằng cách import TensorFlow và in ra phiên bản hiện tại (như hình):\n",
    "\n",
    "![Kiểm tra phiên bản TensorFlow](./imgs/terminal.png)"
   ]
  },
  {
   "cell_type": "markdown",
   "metadata": {},
   "source": [
    "### Tham khảo:\n",
    "\n",
    "* https://medium.com/@abhizcc/installing-latest-tensor-flow-and-keras-on-raspberry-pi-aac7dbf95f2\n",
    "\n",
    "* https://medium.com/activewizards-machine-learning-company/top-15-python-libraries-for-data-science-in-in-2017-ab61b4f9b4a7\n",
    "\n",
    "* http://www.instructables.com/id/Installing-Keras-on-Raspberry-Pi-3/"
   ]
  },
  {
   "cell_type": "markdown",
   "metadata": {},
   "source": [
    "---\n",
    "Nếu có thắc mắc hoặc góp ý, các bạn hãy comment bên dưới để bài viết có thể được hoàn thiện hơn. \n",
    "Xin cảm ơn,\n",
    "\n",
    "Hà Phương - Mechasolution Việt Nam."
   ]
  }
 ],
 "metadata": {
  "colab": {
   "default_view": {},
   "name": "Untitled",
   "provenance": [],
   "version": "0.3.2",
   "views": {}
  },
  "kernelspec": {
   "display_name": "Python 3",
   "language": "python",
   "name": "python3"
  },
  "language_info": {
   "codemirror_mode": {
    "name": "ipython",
    "version": 3
   },
   "file_extension": ".py",
   "mimetype": "text/x-python",
   "name": "python",
   "nbconvert_exporter": "python",
   "pygments_lexer": "ipython3",
   "version": "3.6.5"
  }
 },
 "nbformat": 4,
 "nbformat_minor": 2
}
