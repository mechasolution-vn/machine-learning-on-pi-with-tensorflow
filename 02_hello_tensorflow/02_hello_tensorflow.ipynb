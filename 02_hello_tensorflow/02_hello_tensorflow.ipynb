{
 "cells": [
  {
   "cell_type": "markdown",
   "metadata": {
    "colab_type": "text",
    "id": "a3bskVXPvchm"
   },
   "source": [
    "## Dự án 01: Xây dựng Raspberry PI thành máy tính cho Data Scientist (PIDS)\n",
    "## Bài 02. Hello, TensorFlow\n",
    "\n",
    "##### Người soạn: Dương Trần Hà Phương\n",
    "##### Website: [Mechasolution Việt Nam](https://mechasolution.vn)\n",
    "##### Email: mechasolutionvietnam@gmail.com\n",
    "---"
   ]
  },
  {
   "cell_type": "markdown",
   "metadata": {
    "colab_type": "text",
    "id": "Rb5rSpcZvYbX"
   },
   "source": [
    "TensorFlow là một hệ thống chuyên dùng để tính toán trên đồ thị (graph-based computation). Một ví dụ điển hình là sử dụng trong máy học (machine learning). Trong notebook này, chúng ta sẽ tìm hiểu những khái niệm cơ bản cuả TensorFlow và một số ví dụ đơn giản.\n",
    "\n",
    "Cái tên TensorFlow được kết hợp từ 2 thành phần:\n",
    "* [**Tensor**] (https://en.wikipedia.org/wiki/Tensor), là một mảng có số chiều tùy ý. Một vector là một mảng 1 chiều (1-d array) thì được hiểu là tensor bậc 1. Một vector là một mảng 2 chiều (2-d array) thì được hiểu là tensor bậc 2. \n",
    "* **Flow** được hiểu nhưng luồng xử lý trong đồ thị. \n",
    "\n",
    "Khi bạn nghĩ sẽ làm thứ gì đó với TensorFlow, bạn có thể làm các bước sau: \n",
    "* Tạo tensor (như ma trận)\n",
    "* Thêm các thao tác tính toán (các phép tính trên tensor)\n",
    "* Cuối cùng là thực thi việc tính toán (chạy đồ thị tính toán)\n",
    "\n",
    "Cụ thể, khi bạn thêm các thao tác tính toán trên tensor, nó sẽ không thực thi ngay lập tức. Thay vào đó, TensorFlow sẽ đợi bạn định nghĩa tất cả các thao tác bạn muốn thực hiện trên đồ thị tính toán. Sau đó, TensorFlow tối ưu đồ thị tính toán, quyết định cách thức thực thi đồ thị tính toán trên, trước khi sinh ra dữ liệu. Bởi vì vậy, một tensor trong TensorFlow không giữ quá nhiều dữ liệu như một nơi lưu trữ dữ liệu mà nó sẽ đợi dữ liệu đến khi việc tính toán được thực thi."
   ]
  },
  {
   "cell_type": "markdown",
   "metadata": {
    "colab_type": "text",
    "id": "E8FhiMivhcYB"
   },
   "source": [
    "## Cộng hai vector trong TensorFlow\n",
    "\n",
    "Hãy bắt đầu với một vài ví dụ đơn giản. Hãy cộng 2 vector có 4 phần tử (2 tensor bậc 1) như sau:\n",
    "\n",
    "$\\begin{bmatrix} 1. & 1. & 1. & 1.\\end{bmatrix} + \\begin{bmatrix} 2. & 2. & 2. & 2.\\end{bmatrix} = \\begin{bmatrix} 3. & 3. & 3. & 3.\\end{bmatrix}$"
   ]
  },
  {
   "cell_type": "code",
   "execution_count": 2,
   "metadata": {
    "cellView": "both",
    "colab": {
     "autoexec": {
      "startup": false,
      "wait_interval": 0
     },
     "output_extras": [
      {
       "item_id": 1
      }
     ]
    },
    "colab_type": "code",
    "executionInfo": {
     "elapsed": 131,
     "status": "ok",
     "timestamp": 1446243605678,
     "user": {
      "color": "#1FA15D",
      "displayName": "Michael Piatek",
      "isAnonymous": false,
      "isMe": true,
      "permissionId": "00327059602783983041",
      "photoUrl": "//lh6.googleusercontent.com/-wKJwK_OPl34/AAAAAAAAAAI/AAAAAAAAAlk/Rh3u6O2Z7ns/s50-c-k-no/photo.jpg",
      "sessionId": "7391995727249e65",
      "userId": "106975671469698476657"
     },
     "user_tz": 420
    },
    "id": "2iv3XQ6k3eF1",
    "outputId": "e21e1144-736a-4b1f-df78-a9ceab9d4c61"
   },
   "outputs": [
    {
     "name": "stdout",
     "output_type": "stream",
     "text": [
      "[3. 3. 3. 3.]\n"
     ]
    }
   ],
   "source": [
    "import tensorflow as tf\n",
    "\n",
    "with tf.Session():\n",
    "    input1 = tf.constant([1.0, 1.0, 1.0, 1.0])\n",
    "    input2 = tf.constant([2.0, 2.0, 2.0, 2.0])\n",
    "    output = tf.add(input1, input2)\n",
    "    result = output.eval()\n",
    "    print(result)"
   ]
  },
  {
   "cell_type": "markdown",
   "metadata": {
    "colab_type": "text",
    "id": "I52jQOyO8vAn"
   },
   "source": [
    "## Giải thích ví dụ cộng 2 vector trong TensorFlow\n",
    "\n",
    "Ví dụ trên nhìn có vẻ đơn giản, chỉ là cộng 2 vectors thôi mà ! Nhưng thực ra bản chất bên trong bao gồm nhiều thứ hơn chúng ta thấy, vì vậy hãy cũng đi sâu vào ví dụ trên để tìm hiểu.\n",
    "\n",
    ">`import tensorflow as tf`\n",
    "\n",
    "Import TensorFlow API vào IPython runtime environment.\n",
    "\n",
    ">`with tf.Session():`\n",
    "\n",
    "Khi bạn chạy một thao tác trên TensorFlow, bạn cần thực hiện thao tác đó trên một `Session`. Một session chứa đồ thị tính toán, là nơi chứa các tensors và các thao tác. Khi bạn tạo các tensors và các thao tác, nó sẽ không thực thi ngay lập tức, nhưng nó sẽ đợi các thao tác khác, các tensors khác được thêm vào đồ thị và chỉ thực thi khi được yêu cầu thực thi của session, cuối cùng là cho ra kết quả. Việc trì hoãn thực thi như trên cho ta có cơ hội bổ sung cho việc xử lý song song và tối ưu hóa. TensorFlow có thể quyết định cách kết hợp các thao tác và nơi chạy chúng sau khi TensorFlow biết về tất cả các thao tác.\n",
    "\n",
    ">>`input1 = tf.constant([1.0, 1.0, 1.0, 1.0])`\n",
    "\n",
    ">>`input2 = tf.constant([2.0, 2.0, 2.0, 2.0])`\n",
    "\n",
    "Hai dòng tiếp theo, tạo tensor bằng cách sử dụng hàm `constant`, hàm này tương tự như `array` và `full` trong numpy. Tóm lại, hàm trên sẽ tạo một tensor với một shape quy định trước và điền các giá trị vào. \n",
    "Cấu trúc của hàm `constant`: \n",
    "```\n",
    "tf.constant(\n",
    "    value,\n",
    "    dtype=None,\n",
    "    shape=None,\n",
    "    name='Const',\n",
    "    verify_shape=False\n",
    ")\n",
    "```\n",
    "\n",
    ">>`output = tf.add(input1, input2)`\n",
    "\n",
    "Ở dòng code này, bạn có thể nghĩ hàm `add` sẽ cộng 2 vectors ngay lập tức, nhưng thực ra nó không phải như vậy. Nó chỉ thêm thao tác cộng vào đồ thị tính toán, nhưng đồ thị tính toán vẫn chưa thực thi ngay lúc này.\n",
    "\n",
    ">>`result = output.eval()`\n",
    "\n",
    ">>`print(result)`\n",
    "\n",
    "`eval()` có vẻ đơn giản hơn sự phức tạp mà ta nhìn thấy ở trên. Nó sẽ lấy giá trị của vector (tensor) và trả về một numpy array, cái mà ta có thể in ra để kiểm tra. Nhưng nó thực sự quan trong vì ta sẽ thực thi đồ thị tính toán tại đây; để có nó, ta phải chạy đồ thị tính toán. \n",
    "\n",
    "Vì vậy, tại điểm này, đồ thị tính toán sẽ được thực thi, không phải khi thao tác `add` được gọi mà khi ta đã thêm thao tác `add` vào đồ thị tính toán."
   ]
  },
  {
   "cell_type": "markdown",
   "metadata": {
    "colab_type": "text",
    "id": "H_5_2YY3ySr2"
   },
   "source": [
    "## Tổ hợp nhiều thao tác\n",
    "\n",
    "Để sử dụng TensorFlow, bạn cần thêm các thao tác và các tensors vào đồ thị tính toán. Sau đó, thực thi đồ thị tính toán để chạy tất cả các thao tác và tính toán các giá trị của tất cả tensors trong đồ thị.\n",
    "\n",
    "Dưới đây là ví dụ đơn giản với 2 thao tác:"
   ]
  },
  {
   "cell_type": "code",
   "execution_count": 3,
   "metadata": {
    "cellView": "both",
    "colab": {
     "autoexec": {
      "startup": false,
      "wait_interval": 0
     },
     "output_extras": [
      {
       "item_id": 1
      }
     ]
    },
    "colab_type": "code",
    "executionInfo": {
     "elapsed": 101,
     "status": "ok",
     "timestamp": 1446242580297,
     "user": {
      "color": "#1FA15D",
      "displayName": "Michael Piatek",
      "isAnonymous": false,
      "isMe": true,
      "permissionId": "00327059602783983041",
      "photoUrl": "//lh6.googleusercontent.com/-wKJwK_OPl34/AAAAAAAAAAI/AAAAAAAAAlk/Rh3u6O2Z7ns/s50-c-k-no/photo.jpg",
      "sessionId": "7391995727249e65",
      "userId": "106975671469698476657"
     },
     "user_tz": 420
    },
    "id": "-kQmn3U_yXX8",
    "outputId": "e96a6e27-665e-47d3-822e-47aeb66fc7f8"
   },
   "outputs": [
    {
     "name": "stdout",
     "output_type": "stream",
     "text": [
      "[6. 6. 6. 6.]\n"
     ]
    }
   ],
   "source": [
    "import tensorflow as tf\n",
    "\n",
    "with tf.Session():\n",
    "    input1 = tf.constant(1.0, shape=[4])\n",
    "    input2 = tf.constant(2.0, shape=[4])\n",
    "    input3 = tf.constant(3.0, shape=[4])\n",
    "    output = tf.add(tf.add(input1, input2), input3)\n",
    "    result = output.eval()\n",
    "    print(result)"
   ]
  },
  {
   "cell_type": "markdown",
   "metadata": {
    "colab_type": "text",
    "id": "Hod0zvsly8YT"
   },
   "source": [
    "Ở ví dụ này, hàm `constant` được sử dụng tương tự hàm `fill` của numpy.\n",
    "\n",
    "Toán tử `add` hỗ trợ operator overloading, vì vậy bạn có thể viết một cách đơn giản hơn là: `input1 + input2`. Xem ví dụ sau:"
   ]
  },
  {
   "cell_type": "code",
   "execution_count": 4,
   "metadata": {
    "cellView": "both",
    "colab": {
     "autoexec": {
      "startup": false,
      "wait_interval": 0
     },
     "output_extras": [
      {
       "item_id": 1
      }
     ]
    },
    "colab_type": "code",
    "executionInfo": {
     "elapsed": 156,
     "status": "ok",
     "timestamp": 1446242664353,
     "user": {
      "color": "#1FA15D",
      "displayName": "Michael Piatek",
      "isAnonymous": false,
      "isMe": true,
      "permissionId": "00327059602783983041",
      "photoUrl": "//lh6.googleusercontent.com/-wKJwK_OPl34/AAAAAAAAAAI/AAAAAAAAAlk/Rh3u6O2Z7ns/s50-c-k-no/photo.jpg",
      "sessionId": "7391995727249e65",
      "userId": "106975671469698476657"
     },
     "user_tz": 420
    },
    "id": "yS2WElRfxz53",
    "outputId": "9818bf3c-5659-4a87-8b5d-40a28f1a2677"
   },
   "outputs": [
    {
     "name": "stdout",
     "output_type": "stream",
     "text": [
      "[3. 3. 3. 3.]\n"
     ]
    }
   ],
   "source": [
    "with tf.Session():\n",
    "    input1 = tf.constant(1.0, shape=[4])\n",
    "    input2 = tf.constant(2.0, shape=[4])\n",
    "    output = input1 + input2\n",
    "    print(output.eval())"
   ]
  },
  {
   "cell_type": "markdown",
   "metadata": {
    "colab_type": "text",
    "id": "zszjoYUjkUNU"
   },
   "source": [
    "##  Cộng hai ma trận"
   ]
  },
  {
   "cell_type": "markdown",
   "metadata": {
    "colab_type": "text",
    "id": "EWNYBCB6kbri"
   },
   "source": [
    "Next, let's do something very similar, adding two matrices:\n",
    "\n",
    "$\\begin{bmatrix}\n",
    "  1. & 1. & 1. \\\\\n",
    "  1. & 1. & 1. \\\\\n",
    "\\end{bmatrix} + \n",
    "\\begin{bmatrix}\n",
    "  1. & 2. & 3. \\\\\n",
    "  4. & 5. & 6. \\\\\n",
    "\\end{bmatrix} = \n",
    "\\begin{bmatrix}\n",
    "  2. & 3. & 4. \\\\\n",
    "  5. & 6. & 7. \\\\\n",
    "\\end{bmatrix}$"
   ]
  },
  {
   "cell_type": "code",
   "execution_count": 5,
   "metadata": {
    "cellView": "both",
    "colab": {
     "autoexec": {
      "startup": false,
      "wait_interval": 0
     },
     "output_extras": [
      {
       "item_id": 1
      }
     ]
    },
    "colab_type": "code",
    "executionInfo": {
     "elapsed": 1540,
     "status": "ok",
     "timestamp": 1446242690334,
     "user": {
      "color": "#1FA15D",
      "displayName": "Michael Piatek",
      "isAnonymous": false,
      "isMe": true,
      "permissionId": "00327059602783983041",
      "photoUrl": "//lh6.googleusercontent.com/-wKJwK_OPl34/AAAAAAAAAAI/AAAAAAAAAlk/Rh3u6O2Z7ns/s50-c-k-no/photo.jpg",
      "sessionId": "7391995727249e65",
      "userId": "106975671469698476657"
     },
     "user_tz": 420
    },
    "id": "tmWcCxSilYkg",
    "outputId": "f3a2e904-790b-42e1-9ca4-2f3c54d7f4a8"
   },
   "outputs": [
    {
     "name": "stdout",
     "output_type": "stream",
     "text": [
      "[[2. 3. 4.]\n",
      " [5. 6. 7.]]\n"
     ]
    }
   ],
   "source": [
    "import tensorflow as tf\n",
    "import numpy as np\n",
    "\n",
    "with tf.Session():\n",
    "    input1 = tf.constant(1.0, shape=[2, 3])\n",
    "    input2 = tf.constant(np.reshape(np.arange(1.0, 7.0, dtype=np.float32), (2, 3)))\n",
    "    output = tf.add(input1, input2)\n",
    "    print(output.eval())"
   ]
  },
  {
   "cell_type": "markdown",
   "metadata": {
    "colab_type": "text",
    "id": "JuU3Bmglq1vd"
   },
   "source": [
    "Trong ví dụ này, ma trận với giá trị từ 1 đến 6 được tạo bằng thư viện numpy và gán vào trong `constant`, nhưng TensorFlow cũng có các toán tử `range`, `reshape`, và `tofloat`. Sử dụng các toán tử trên với TensorFlow sẽ hiệu quả hơn nếu làm việc với các ma trận lớn."
   ]
  },
  {
   "cell_type": "markdown",
   "metadata": {
    "colab_type": "text",
    "id": "gnXnpnuLrflb"
   },
   "source": [
    "##  Nhân hai ma trận"
   ]
  },
  {
   "cell_type": "markdown",
   "metadata": {
    "colab_type": "text",
    "id": "Ho-QNSOorj0y"
   },
   "source": [
    "Tiếp theo, chúng ta sẽ tìm hiểu việc nhân 2 ma trận. Chọn một vector gồm 0, 1 và ma trận chứa một vài giá trị ngẫu nhiên, đây là một thao tác quan trọng mà chúng ta cần dùng cho các bài toán như Regression và Neural networks."
   ]
  },
  {
   "cell_type": "code",
   "execution_count": 6,
   "metadata": {
    "cellView": "both",
    "colab": {
     "autoexec": {
      "startup": false,
      "wait_interval": 0
     },
     "output_extras": [
      {
       "item_id": 1
      }
     ]
    },
    "colab_type": "code",
    "executionInfo": {
     "elapsed": 132,
     "status": "ok",
     "timestamp": 1446242872027,
     "user": {
      "color": "#1FA15D",
      "displayName": "Michael Piatek",
      "isAnonymous": false,
      "isMe": true,
      "permissionId": "00327059602783983041",
      "photoUrl": "//lh6.googleusercontent.com/-wKJwK_OPl34/AAAAAAAAAAI/AAAAAAAAAlk/Rh3u6O2Z7ns/s50-c-k-no/photo.jpg",
      "sessionId": "7391995727249e65",
      "userId": "106975671469698476657"
     },
     "user_tz": 420
    },
    "id": "uNqMaFR8sIY5",
    "outputId": "fc0e29a0-306c-4709-c181-1108d5a21d88"
   },
   "outputs": [
    {
     "name": "stdout",
     "output_type": "stream",
     "text": [
      "Input:\n",
      "[[1. 0. 0. 1.]]\n",
      "Weights:\n",
      "[[-0.02770738 -2.6773098 ]\n",
      " [-0.29421392 -1.3019267 ]\n",
      " [ 1.1246065  -1.4934174 ]\n",
      " [-0.6606843   1.4383485 ]]\n",
      "Output:\n",
      "[[-0.6883917 -1.2389612]]\n"
     ]
    }
   ],
   "source": [
    "#@test {\"output\": \"ignore\"}\n",
    "import tensorflow as tf\n",
    "import numpy as np\n",
    "\n",
    "with tf.Session():\n",
    "    input_features = tf.constant(np.reshape([1, 0, 0, 1], (1, 4)).astype(np.float32))\n",
    "    weights = tf.constant(np.random.randn(4, 2).astype(np.float32))\n",
    "    output = tf.matmul(input_features, weights)\n",
    "    print(\"Input:\")\n",
    "    print(input_features.eval())\n",
    "    print(\"Weights:\")\n",
    "    print(weights.eval())\n",
    "    print(\"Output:\")\n",
    "    print(output.eval())"
   ]
  },
  {
   "cell_type": "markdown",
   "metadata": {
    "colab_type": "text",
    "id": "JDAVTPhb22AP"
   },
   "source": [
    "Ví dụ trên, chúng ta dùng (1 x 4) vector [1 0 0 1] và nhân với một ma rận (4 x 2) với các giá trị được sinh ra từ phân phổi chuẩn (mean 0, stdev 1). Vì vậy, ma trận kết quả sẽ là ma trận (1 x 2).\n",
    "\n",
    "Bạn có thể thử hiệu chỉnh ví dụ trên. Chạy cell trên nhiều lần thì ma trận weights sẽ được sinh ra mới liên tục và ta sẽ thu được các ma trận kết quả khác nhau. Hoặc thay đổi input thành \\[0 0 0 1], và chạy lại cell trên một nữa. Hoặc cố gắng khởi tạo ma trận weights mà sử dụng các TensorFlow ops như: [random_normal](https://www.tensorflow.org/api_docs/python/tf/random_normal), thay cho việc sử dụng thư viện numpy."
   ]
  },
  {
   "cell_type": "markdown",
   "metadata": {
    "colab_type": "text",
    "id": "XhnBjAUILuy8"
   },
   "source": [
    "## Variables\n",
    "\n",
    "Xét việc cộng 2 ma trận trong một vòng lặp, chúng ta sẽ không tạo ra một tensor mới ở mỗi lần lập, mà chúng ta sẽ cập nhật những giá trị liên tục và sau đó sẽ chạy lại đồ thị tính toán với dữ liệu mới vừa được cập nhật. Điều đó xảy ra rất nhiều với các mô hình trong machine learning, chúng ta có thể thay đổi nhiều tham số ở mỗi lần lặp ví dụ như thuật toán Gradient Descent cập nhật các trọng số và sau đó thực hiện các tính toán một lần nữa và cứ thế lặp lại."
   ]
  },
  {
   "cell_type": "code",
   "execution_count": 13,
   "metadata": {
    "cellView": "both",
    "colab": {
     "autoexec": {
      "startup": false,
      "wait_interval": 0
     },
     "output_extras": [
      {
       "item_id": 1
      }
     ]
    },
    "colab_type": "code",
    "executionInfo": {
     "elapsed": 180,
     "status": "ok",
     "timestamp": 1446244201894,
     "user": {
      "color": "#1FA15D",
      "displayName": "Michael Piatek",
      "isAnonymous": false,
      "isMe": true,
      "permissionId": "00327059602783983041",
      "photoUrl": "//lh6.googleusercontent.com/-wKJwK_OPl34/AAAAAAAAAAI/AAAAAAAAAlk/Rh3u6O2Z7ns/s50-c-k-no/photo.jpg",
      "sessionId": "7391995727249e65",
      "userId": "106975671469698476657"
     },
     "user_tz": 420
    },
    "id": "vJ_AgZ8lLtRv",
    "outputId": "8d3aadaa-2b34-4642-889b-e3daaf5ee693"
   },
   "outputs": [
    {
     "name": "stdout",
     "output_type": "stream",
     "text": [
      "[[ 0.8276067 -0.5568018]] [[ 0.8276067 -0.5568018]]\n",
      "[[0.7663796  0.23061371]] [[ 1.5939863 -0.3261881]]\n",
      "[[ 0.73993087 -0.58519435]] [[ 2.3339171  -0.91138244]]\n",
      "[[ 0.62350607 -0.6924634 ]] [[ 2.9574232 -1.6038458]]\n",
      "[[-0.01303411  0.88936186]] [[ 2.944389 -0.714484]]\n",
      "[[-0.69019794 -0.36287642]] [[ 2.2541912 -1.0773604]]\n",
      "[[0.73608446 0.922559  ]] [[ 2.9902756  -0.15480137]]\n",
      "[[ 0.95856285 -0.30964684]] [[ 3.9488385 -0.4644482]]\n",
      "[[-0.8023789  -0.41767144]] [[ 3.1464596  -0.88211966]]\n",
      "[[-0.37029266 -0.94749045]] [[ 2.776167  -1.8296101]]\n"
     ]
    }
   ],
   "source": [
    "#@test {\"output\": \"ignore\"}\n",
    "import tensorflow as tf\n",
    "import numpy as np\n",
    "\n",
    "with tf.Session() as sess:\n",
    "    # Set up two variables, total and weights, that we'll change repeatedly.\n",
    "    total = tf.Variable(tf.zeros([1, 2]))\n",
    "    weights = tf.Variable(tf.random_uniform([1,2]))\n",
    "\n",
    "    # Initialize the variables we defined above.\n",
    "    tf.initialize_all_variables().run()\n",
    "\n",
    "    # This only adds the operators to the graph right now. The assignment\n",
    "    # and addition operations are not performed yet.\n",
    "    update_weights = tf.assign(weights, tf.random_uniform([1, 2], -1.0, 1.0))\n",
    "    update_total = tf.assign(total, tf.add(total, weights))\n",
    "\n",
    "    for _ in range(10):\n",
    "        # Actually run the operation graph, so randomly generate weights and then\n",
    "        # add them into the total. Order does matter here. We need to update\n",
    "        # the weights before updating the total.\n",
    "        sess.run(update_weights)\n",
    "        sess.run(update_total)\n",
    "\n",
    "        print(weights.eval(), total.eval())"
   ]
  },
  {
   "cell_type": "markdown",
   "metadata": {
    "colab_type": "text",
    "id": "kSYJr89aM_n0"
   },
   "source": [
    "Ví dụ trên có vẻ phức tạp hơn. Ở mức độ cao hơn, chúng ta tạo ra hai biến và thêm các thao tác lên chúng. Sau đó, trong vòng lặp, liên tục thực hiện những thao tác này. Hãy tìm hiểu ví dụ trên từng bước một (step-by-step):\n",
    "\n",
    "* Đầu tiên, code trên tạo 2 biến `total` và `weights`. `total` được khởi tạo \\[0, 0\\] và `weights` được khởi tạo với các giá trị ngẫu nhiên trong [-1, 1].\n",
    "\n",
    "* Tiếp theo, hai thao tác được thêm vào đồ thị, một để cập nhật biến weights với các giá trị được lấy ngẫu nhiên trong [-1, 1], thao tác còn lại để cập nhật tổng với giá trị trọng số (weight) mới. Một lần nữa, các toán tử sẽ không được thực thi ngay cho đến khi chúng ta gọi hàm `eval`.\n",
    "\n",
    "* Cuối cùng, trong vòng lặp for, chúng ta chạy 2 thao tác trên. Trong mỗi lần lặp, ta sẽ thực thi thao tác mà ta đã thêm vào trước đó. Đầu tiên gán những giá trị ngẫu nhiên vào `weights`, sau đó cập nhật tổng với giá trị `weights` mới.\n",
    "\n",
    "Thật khó để chúng ta có thể biết được chính xác khi nào các thao tác được thực thi. Do đó, điều quan trọng chúng ta cần nhớ là các thao tác chỉ thực hiện khi có yêu cầu.\n",
    "\n",
    "[Biến (Variable)](https://www.tensorflow.org/api_docs/python/tf/Variable) có thể sử dụng một cách hữu ích trong các trường hợp có nhiều tính toán và dữ liệu của bạn muốn sử dụng nhiều lần với sự thay đổi không đáng kế ở mỗi lần."
   ]
  },
  {
   "cell_type": "markdown",
   "metadata": {},
   "source": [
    "---\n",
    "Nếu có thắc mắc hoặc góp ý, các bạn hãy comment bên dưới để bài viết có thể được hoàn thiện hơn. \n",
    "Xin cảm ơn,\n",
    "\n",
    "Hà Phương - Mechasolution Việt Nam."
   ]
  }
 ],
 "metadata": {
  "colab": {
   "default_view": {},
   "name": "Untitled",
   "provenance": [],
   "version": "0.3.2",
   "views": {}
  },
  "kernelspec": {
   "display_name": "Python 3",
   "language": "python",
   "name": "python3"
  },
  "language_info": {
   "codemirror_mode": {
    "name": "ipython",
    "version": 3
   },
   "file_extension": ".py",
   "mimetype": "text/x-python",
   "name": "python",
   "nbconvert_exporter": "python",
   "pygments_lexer": "ipython3",
   "version": "3.6.5"
  }
 },
 "nbformat": 4,
 "nbformat_minor": 2
}
